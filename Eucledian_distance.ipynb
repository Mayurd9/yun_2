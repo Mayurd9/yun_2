{
  "nbformat": 4,
  "nbformat_minor": 0,
  "metadata": {
    "colab": {
      "provenance": [],
      "authorship_tag": "ABX9TyOKcZkj6y39frWg+YdS9KGf",
      "include_colab_link": true
    },
    "kernelspec": {
      "name": "python3",
      "display_name": "Python 3"
    },
    "language_info": {
      "name": "python"
    }
  },
  "cells": [
    {
      "cell_type": "markdown",
      "metadata": {
        "id": "view-in-github",
        "colab_type": "text"
      },
      "source": [
        "<a href=\"https://colab.research.google.com/github/Mayurd9/yun_2/blob/main/Eucledian_distance.ipynb\" target=\"_parent\"><img src=\"https://colab.research.google.com/assets/colab-badge.svg\" alt=\"Open In Colab\"/></a>"
      ]
    },
    {
      "cell_type": "code",
      "execution_count": 2,
      "metadata": {
        "id": "wU2BHKqxPVyj"
      },
      "outputs": [],
      "source": [
        "import pandas as pd\n",
        "import numpy as np\n",
        "from scipy.spatial.distance import cdist\n",
        "from sklearn.cluster import DBSCAN\n",
        "\n",
        "# Sample DataFrame of x and y coordinates\n",
        "data = {'x': [1.0, 1.5, 2.0, 5.0, 5.5, 6.0],\n",
        "        'y': [1.0, 1.4, 2.1, 5.0, 5.4, 6.1]}\n",
        "df = pd.DataFrame(data)\n",
        "\n",
        "# Compute pairwise Euclidean distance\n",
        "coords = df[['x', 'y']].values\n",
        "distances = cdist(coords, coords, metric='euclidean')"
      ]
    },
    {
      "cell_type": "code",
      "source": [
        "distances.shape"
      ],
      "metadata": {
        "colab": {
          "base_uri": "https://localhost:8080/"
        },
        "id": "mrWFxLNyPzIY",
        "outputId": "99b1a493-0c9a-4c0a-e4e2-5ec9d44f28e0"
      },
      "execution_count": 4,
      "outputs": [
        {
          "output_type": "execute_result",
          "data": {
            "text/plain": [
              "(6, 6)"
            ]
          },
          "metadata": {},
          "execution_count": 4
        }
      ]
    },
    {
      "cell_type": "code",
      "source": [
        "distances"
      ],
      "metadata": {
        "colab": {
          "base_uri": "https://localhost:8080/"
        },
        "id": "v-lJ6SWbRXQW",
        "outputId": "b0c32cab-4354-4d6e-dbaf-54007a26fefd"
      },
      "execution_count": 6,
      "outputs": [
        {
          "output_type": "execute_result",
          "data": {
            "text/plain": [
              "array([[0.        , 0.64031242, 1.48660687, 5.65685425, 6.29364759,\n",
              "        7.14212853],\n",
              "       [0.64031242, 0.        , 0.86023253, 5.02095608, 5.65685425,\n",
              "        6.50691939],\n",
              "       [1.48660687, 0.86023253, 0.        , 4.17252921, 4.81040539,\n",
              "        5.65685425],\n",
              "       [5.65685425, 5.02095608, 4.17252921, 0.        , 0.64031242,\n",
              "        1.48660687],\n",
              "       [6.29364759, 5.65685425, 4.81040539, 0.64031242, 0.        ,\n",
              "        0.86023253],\n",
              "       [7.14212853, 6.50691939, 5.65685425, 1.48660687, 0.86023253,\n",
              "        0.        ]])"
            ]
          },
          "metadata": {},
          "execution_count": 6
        }
      ]
    },
    {
      "cell_type": "code",
      "source": [
        "# Use DBSCAN clustering to group points within a 0.5 distance\n",
        "db = DBSCAN(eps=0.5, min_samples=1, metric='precomputed')\n",
        "df['group'] = db.fit_predict(distances)\n",
        "\n",
        "print(df)"
      ],
      "metadata": {
        "colab": {
          "base_uri": "https://localhost:8080/"
        },
        "id": "MKwTEAdBQ-at",
        "outputId": "02187f85-3072-4ee5-8bec-cecd704a3b6c"
      },
      "execution_count": 5,
      "outputs": [
        {
          "output_type": "stream",
          "name": "stdout",
          "text": [
            "     x    y  group\n",
            "0  1.0  1.0      0\n",
            "1  1.5  1.4      1\n",
            "2  2.0  2.1      2\n",
            "3  5.0  5.0      3\n",
            "4  5.5  5.4      4\n",
            "5  6.0  6.1      5\n"
          ]
        }
      ]
    },
    {
      "cell_type": "code",
      "source": [],
      "metadata": {
        "id": "CMNMGmwPRWDC"
      },
      "execution_count": null,
      "outputs": []
    }
  ]
}